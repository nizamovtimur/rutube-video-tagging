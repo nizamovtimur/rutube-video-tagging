{
 "cells": [
  {
   "cell_type": "markdown",
   "metadata": {},
   "source": [
    "### Baseline для хакатона Rutube по задаче \"Теггирование видео\"\n",
    "\n",
    "В рамках данного ноутбука мы рассмотрим наивный подход к решению поставленной задачи: векторный поиск навания видео в базе векторов тегов.\n",
    "\n",
    "В конце есть пример получения sample_submission.csv - пример файла, который нужно загрузить на лидерборд.\n"
   ]
  },
  {
   "cell_type": "code",
   "execution_count": 23,
   "metadata": {},
   "outputs": [],
   "source": [
    "import pandas as pd\n",
    "from sentence_transformers import SentenceTransformer\n",
    "import json\n",
    "from tqdm.autonotebook import tqdm\n",
    "import numpy as np\n",
    "import faiss"
   ]
  },
  {
   "cell_type": "markdown",
   "metadata": {},
   "source": [
    "#### Берем данные с id видео и его названием, также загружаем иерархические теги"
   ]
  },
  {
   "cell_type": "code",
   "execution_count": 24,
   "metadata": {},
   "outputs": [
    {
     "name": "stdout",
     "output_type": "stream",
     "text": [
      "Index(['video_id', 'title', 'description'], dtype='object')\n",
      "                             video_id  \\\n",
      "353  85c6ac4a4cfc3778cd2e65139d970dba   \n",
      "985  7eecbd10bdaa596c2921ecb9bf7dbf69   \n",
      "877  0d7b83b4d141158214acf42ab2ca0519   \n",
      "983  cf3ef0b2d6227ad372a9b7dcb6cb2df3   \n",
      "31   c093daa4f0e96d8f2e4736c9240898f3   \n",
      "\n",
      "                                                 title  \\\n",
      "353                         Салют, Начальник | 4 серия   \n",
      "985  Сколько Стоит Тачка: Галина Ржаксенская - от п...   \n",
      "877                       Какова Меркурия? | Выпуск 12   \n",
      "983                             Смехмашина | Выпуск 13   \n",
      "31     Абьюз-шоу | Выпуск № 9 часть 1 | Ирина Барышева   \n",
      "\n",
      "                                           description  \n",
      "353  На очередной сельской планёрке обсуждают насущ...  \n",
      "985  В этом выпуске вы узнаете, на чем ездит блогер...  \n",
      "877  Женя вместе с астрологом попробуют разобраться...  \n",
      "983  Подвели итоги розыгрыша. Поздравляем счастливо...  \n",
      "31   Героиней сегодняшнего выпуска Абьюз-шоу стала ...  \n",
      "  Уровень 1 (iab)         Уровень 2 (iab)      Уровень 3 (iab)\n",
      "0       Транспорт                     NaN                  NaN\n",
      "1       Транспорт  Типы кузова автомобиля                  NaN\n",
      "2       Транспорт  Типы кузова автомобиля  Грузовой автомобиль\n",
      "3       Транспорт  Типы кузова автомобиля                Седан\n",
      "4       Транспорт  Типы кузова автомобиля            Универсал\n",
      "Index(['Уровень 1 (iab)', 'Уровень 2 (iab)', 'Уровень 3 (iab)'], dtype='object')\n"
     ]
    }
   ],
   "source": [
    "data = pd.read_csv(\"../test/x_test.csv\", index_col=0)[['video_id', 'title', 'description']]\n",
    "taxonomy = pd.read_csv(\"IAB_tags.csv\")\n",
    "\n",
    "print(data.columns)\n",
    "print(data.head(5))\n",
    "\n",
    "print(taxonomy.head(5))\n",
    "print(taxonomy.columns)"
   ]
  },
  {
   "cell_type": "markdown",
   "metadata": {},
   "source": [
    "#### Для создания эмбеддинга берем русскоязычный Берт и загружаем в sentence transformer, который позволяет создавать эмбеддинг для всего предложения и сам обрезает его до максимально возможного числа токенов"
   ]
  },
  {
   "cell_type": "code",
   "execution_count": 25,
   "metadata": {},
   "outputs": [
    {
     "name": "stderr",
     "output_type": "stream",
     "text": [
      "c:\\git\\rutube-video-tagging\\.venv\\lib\\site-packages\\huggingface_hub\\file_download.py:147: UserWarning: `huggingface_hub` cache-system uses symlinks by default to efficiently store duplicated files but your machine does not support them in C:\\Users\\Timur\\.cache\\huggingface\\hub\\models--nizamovtimur--multilingual-e5-large-videotags. Caching files will still work but in a degraded version that might require more space on your disk. This warning can be disabled by setting the `HF_HUB_DISABLE_SYMLINKS_WARNING` environment variable. For more details, see https://huggingface.co/docs/huggingface_hub/how-to-cache#limitations.\n",
      "To support symlinks on Windows, you either need to activate Developer Mode or to run Python as an administrator. In order to activate developer mode, see this article: https://docs.microsoft.com/en-us/windows/apps/get-started/enable-your-device-for-development\n",
      "  warnings.warn(message)\n"
     ]
    }
   ],
   "source": [
    "model = SentenceTransformer('nizamovtimur/multilingual-e5-large-videotags')\n",
    "dim = 1024 # размер вектора эмбеддинга"
   ]
  },
  {
   "cell_type": "code",
   "execution_count": 26,
   "metadata": {},
   "outputs": [],
   "source": [
    "model.save(\"../saved_models/multilingual-e5-large-videotags\")"
   ]
  },
  {
   "cell_type": "markdown",
   "metadata": {},
   "source": [
    "#### Создаем эмбеддинги для названий видео"
   ]
  },
  {
   "cell_type": "code",
   "execution_count": 27,
   "metadata": {},
   "outputs": [],
   "source": [
    "data['UD'] = data['title'] + data['description']\n",
    "data['embedding'] = data['UD'].apply(lambda l: model.encode(l, convert_to_tensor=True).cpu().numpy())"
   ]
  },
  {
   "cell_type": "markdown",
   "metadata": {},
   "source": [
    "#### Создаем векторы для тегов:\n",
    " Для каждого 1 уровня иерархии в отдельности и для следующих уровней формата уровень 1: уровень 2: уровень 3 "
   ]
  },
  {
   "cell_type": "code",
   "execution_count": 28,
   "metadata": {},
   "outputs": [
    {
     "name": "stderr",
     "output_type": "stream",
     "text": [
      "0it [00:00, ?it/s]"
     ]
    },
    {
     "name": "stderr",
     "output_type": "stream",
     "text": [
      "611it [05:39,  1.80it/s]\n"
     ]
    }
   ],
   "source": [
    "def get_tags():\n",
    "    tags = {}\n",
    "    for i, row in tqdm(taxonomy.iterrows()):\n",
    "        if isinstance(row['Уровень 1 (iab)'], str):\n",
    "            tags[row['Уровень 1 (iab)']] = model.encode(row['Уровень 1 (iab)'], convert_to_tensor=True).cpu().numpy()#.tolist()\n",
    "        if isinstance(row['Уровень 2 (iab)'], str):\n",
    "            tags[row['Уровень 1 (iab)']+ \": \"+row['Уровень 2 (iab)']] = model.encode(row['Уровень 1 (iab)']+ \": \"+row['Уровень 2 (iab)'], convert_to_tensor=True).cpu().numpy()#.tolist()\n",
    "        if isinstance(row['Уровень 3 (iab)'], str):\n",
    "            tags[row['Уровень 1 (iab)']+ \": \"+row['Уровень 2 (iab)']+\": \"+row['Уровень 3 (iab)']] = model.encode(row['Уровень 1 (iab)']+ \": \"+row['Уровень 2 (iab)']+\": \"+row['Уровень 3 (iab)'], convert_to_tensor=True).cpu().numpy()#.tolist()\n",
    "    return tags\n",
    "\n",
    "tags = get_tags()\n",
    "tags_list = list(tags.keys())\n",
    "vectors = np.array(list(tags.values()))"
   ]
  },
  {
   "cell_type": "markdown",
   "metadata": {},
   "source": [
    "### Создаем векторную базу faiss для эффективного векторного поиска"
   ]
  },
  {
   "cell_type": "code",
   "execution_count": 29,
   "metadata": {},
   "outputs": [
    {
     "name": "stdout",
     "output_type": "stream",
     "text": [
      "0\n",
      "610\n"
     ]
    }
   ],
   "source": [
    "index = faiss.index_factory(dim, \"Flat\", faiss.METRIC_INNER_PRODUCT)\n",
    "print(index.ntotal)\n",
    "index.add(vectors)\n",
    "print(index.ntotal)"
   ]
  },
  {
   "cell_type": "markdown",
   "metadata": {},
   "source": [
    "#### Смотрим несколько получившихся примеров \n",
    "Генерим по 3 близких предсказания для каждого названия видео"
   ]
  },
  {
   "cell_type": "code",
   "execution_count": 30,
   "metadata": {},
   "outputs": [
    {
     "name": "stdout",
     "output_type": "stream",
     "text": [
      "SCORES [0.6357642  0.6302114  0.61655825]\n",
      "PREDICTION_by_title ['Фильмы и анимация: Комедии' 'Телевидение: Мультфильмы и анимация'\n",
      " 'Фильмы и анимация']\n",
      "SAMPLE Салют, Начальник | 4 серия\n",
      "\n",
      "\n",
      "SCORES [0.6278831 0.4237215 0.3736378]\n",
      "PREDICTION_by_title ['Личные финансы' 'Массовая культура: Семьи знаменитостей'\n",
      " 'Массовая культура: Дома знаменитостей']\n",
      "SAMPLE Сколько Стоит Тачка: Галина Ржаксенская - от подаренных прав до холостяка\n",
      "\n",
      "\n",
      "SCORES [0.7887893  0.47634828 0.31725204]\n",
      "PREDICTION_by_title ['Религия и духовность: Астрология' 'Наука: Космос и астрономия'\n",
      " 'Хобби и интересы: Коллекционирование: Марки и монеты']\n",
      "SAMPLE Какова Меркурия? | Выпуск 12\n",
      "\n",
      "\n",
      "SCORES [0.6927234 0.5768223 0.5662971]\n",
      "PREDICTION_by_title ['Массовая культура: Юмор и сатира' 'Фильмы и анимация: Комедии'\n",
      " 'Телевидение: Комедийные каналы']\n",
      "SAMPLE Смехмашина | Выпуск 13\n",
      "\n",
      "\n",
      "SCORES [0.7317821  0.61411965 0.59934074]\n",
      "PREDICTION_by_title ['Массовая культура: Беременности знаменитостей'\n",
      " 'Медицина: Медицинские направления: Сексология'\n",
      " 'Массовая культура: Семьи знаменитостей']\n",
      "SAMPLE Абьюз-шоу | Выпуск № 9 часть 1 | Ирина Барышева\n",
      "\n",
      "\n",
      "SCORES [0.85009056 0.72098124 0.6369823 ]\n",
      "PREDICTION_by_title ['Еда и напитки: Кулинария' 'Книги и литература: Кулинарные книги'\n",
      " 'Еда и напитки: Инновации и тренды в кулинарии']\n",
      "SAMPLE Домашняя кухня от шефа: Выпуск №15\n",
      "\n",
      "\n",
      "SCORES [0.4784732  0.4526053  0.32584664]\n",
      "PREDICTION_by_title ['Спорт: Борьба' 'Спорт: Бокс' 'Спорт: Студенческий спорт']\n",
      "SAMPLE СarJitsu. 3 сезон, 2 серия. Ушу Мастер vs Максим Намитов\n",
      "\n",
      "\n",
      "SCORES [0.7574327  0.5060663  0.49574924]\n",
      "PREDICTION_by_title ['События и достопримечательности: Исторические места и достопримечательности'\n",
      " 'Путешествия: Направления путешествий' 'События и достопримечательности']\n",
      "SAMPLE Прогулка по стране - Нижний Новгород\n",
      "\n",
      "\n",
      "SCORES [0.8783041  0.79138315 0.7745874 ]\n",
      "PREDICTION_by_title ['Массовая культура: Юмор и сатира' 'Фильмы и анимация: Комедии'\n",
      " 'Телевидение: Комедийные каналы']\n",
      "SAMPLE Смехмашина | Выпуск 7\n",
      "\n",
      "\n",
      "SCORES [0.81235087 0.6890899  0.67500603]\n",
      "PREDICTION_by_title ['Еда и напитки: Кулинария' 'Книги и литература: Кулинарные книги'\n",
      " 'Еда и напитки: Инновации и тренды в кулинарии']\n",
      "SAMPLE МАКСИМ НАРОДНЫЙ Выпуск №38 БОРЩ ИЛИ ЩИ? ВОТ В ЧЕМ ВОПРОС\n",
      "\n",
      "\n"
     ]
    }
   ],
   "source": [
    "topn = 3\n",
    "scores, predictions = index.search(np.array(data['embedding'].to_list()[:10]), topn)\n",
    "for j, i in enumerate(predictions):\n",
    "    print(\"SCORES\", scores[j])\n",
    "    print(\"PREDICTION_by_title\", np.array(tags_list)[predictions[j]])\n",
    "    print(\"SAMPLE\", data['title'].to_list()[:10][j])\n",
    "    print(\"\\n\")"
   ]
  },
  {
   "cell_type": "markdown",
   "metadata": {},
   "source": [
    "#### Для формирования sample_submission будем брать только наилучшее предсказания для каждого видео\n",
    "Сейчас у вас уже есть sample_submission с нужными для скоринга video_id, но пока нет информации о видео, она появится ближе к концу хакатона\n",
    "Для примера прогоним через весь train dataset"
   ]
  },
  {
   "cell_type": "code",
   "execution_count": 31,
   "metadata": {},
   "outputs": [],
   "source": [
    "topn=1\n",
    "sample_submission = pd.DataFrame(data=data['video_id'].to_list(), columns=['video_id'])\n",
    "sample_submission['predicted_tags']=np.nan\n",
    "sample_submission['predicted_tags'] = sample_submission['predicted_tags'].astype('object')\n",
    "\n",
    "for i, row in data.iterrows():\n",
    "    scores, predictions = index.search(np.array([row['embedding']]), topn)\n",
    "    index_i = sample_submission[sample_submission.video_id == row.video_id].index\n",
    "    sample_submission.at[index_i[0], 'predicted_tags'] = [tags_list[predictions[0][0]]] # вытаскиваем предсказание из"
   ]
  },
  {
   "cell_type": "code",
   "execution_count": 32,
   "metadata": {},
   "outputs": [
    {
     "name": "stdout",
     "output_type": "stream",
     "text": [
      "                           video_id  \\\n",
      "0  85c6ac4a4cfc3778cd2e65139d970dba   \n",
      "1  7eecbd10bdaa596c2921ecb9bf7dbf69   \n",
      "2  0d7b83b4d141158214acf42ab2ca0519   \n",
      "3  cf3ef0b2d6227ad372a9b7dcb6cb2df3   \n",
      "4  c093daa4f0e96d8f2e4736c9240898f3   \n",
      "\n",
      "                                    predicted_tags  \n",
      "0                     [Фильмы и анимация: Комедии]  \n",
      "1                                 [Личные финансы]  \n",
      "2               [Религия и духовность: Астрология]  \n",
      "3               [Массовая культура: Юмор и сатира]  \n",
      "4  [Массовая культура: Беременности знаменитостей]  \n"
     ]
    }
   ],
   "source": [
    "print(sample_submission.head(5))\n"
   ]
  },
  {
   "cell_type": "markdown",
   "metadata": {},
   "source": [
    "#### В predicted_tags нужно записывать list тегов, например ['Карьера: Cтажировки', 'Карьера: Составление резюме'] или ['Массовая культура: Сериалы']"
   ]
  },
  {
   "cell_type": "code",
   "execution_count": 33,
   "metadata": {},
   "outputs": [],
   "source": [
    "sample_submission.to_csv(\"sample_submission.csv\", index_label=0)"
   ]
  }
 ],
 "metadata": {
  "kernelspec": {
   "display_name": ".venv",
   "language": "python",
   "name": "python3"
  },
  "language_info": {
   "codemirror_mode": {
    "name": "ipython",
    "version": 3
   },
   "file_extension": ".py",
   "mimetype": "text/x-python",
   "name": "python",
   "nbconvert_exporter": "python",
   "pygments_lexer": "ipython3",
   "version": "3.10.11"
  }
 },
 "nbformat": 4,
 "nbformat_minor": 2
}
